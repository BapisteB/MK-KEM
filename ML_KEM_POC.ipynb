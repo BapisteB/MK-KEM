{
 "cells": [
  {
   "cell_type": "markdown",
   "metadata": {},
   "source": [
    "# ML-KEM (Module-Lattice-Based Key-Encapsulation) Mechanism Standart\n",
    "\n",
    "Implementation of the [paper](https://nvlpubs.nist.gov/nistpubs/fips/nist.fips.203.pdf) published by NIST."
   ]
  },
  {
   "cell_type": "code",
   "execution_count": 9,
   "metadata": {},
   "outputs": [],
   "source": [
    "import numpy as np"
   ]
  },
  {
   "cell_type": "code",
   "execution_count": 46,
   "metadata": {},
   "outputs": [],
   "source": [
    "# Global variables\n",
    "q = 3329\n",
    "n = 256"
   ]
  },
  {
   "cell_type": "code",
   "execution_count": 14,
   "metadata": {},
   "outputs": [],
   "source": [
    "def BitsToBytes(b):\n",
    "    \"\"\"\n",
    "    Converts a bit array (of a length that is a multiple of eight) into and array of bytes.\n",
    "    \"\"\"\n",
    "    lenb = len(b)\n",
    "    B = np.zeros(lenb // 8)\n",
    "\n",
    "    for i in range(lenb):\n",
    "        B[i // 8] = B[i // 8] + b[i] * (2 ** (i % 8))\n",
    "\n",
    "    return B "
   ]
  },
  {
   "cell_type": "code",
   "execution_count": 16,
   "metadata": {},
   "outputs": [],
   "source": [
    "def BytesToBits(B):\n",
    "    \"\"\"\n",
    "    Performs the inverse of BitsToBytes, converting a byte array into a bit array.\n",
    "    \"\"\"\n",
    "    l = len(B)\n",
    "    # Why is there no initialization in the paper ?\n",
    "    b = np.zeros(8 * l)\n",
    "    # Why should we do a copy ?\n",
    "    C = np.copy(B)\n",
    "\n",
    "    for i in range(l):\n",
    "        for j in range(8):\n",
    "            b[8 * i + j] = C[i] % 2\n",
    "            C[i] = C[i] // 2\n",
    "    \n",
    "    return b"
   ]
  },
  {
   "cell_type": "code",
   "execution_count": 18,
   "metadata": {},
   "outputs": [
    {
     "name": "stdout",
     "output_type": "stream",
     "text": [
      "[0. 0. 0. 0. 1. 1. 0. 0.]\n"
     ]
    }
   ],
   "source": [
    "b = np.array([0, 0, 0, 0, 1, 1, 0, 0])\n",
    "print(BytesToBits(BitsToBytes(b)))"
   ]
  },
  {
   "cell_type": "code",
   "execution_count": 64,
   "metadata": {},
   "outputs": [],
   "source": [
    "# Note: should be a templated function? so c++?\n",
    "def ByteEncode(F):\n",
    "    \"\"\"\n",
    "    Encodes an array of 𝑑-bit integers into a byte array for 1 ≤ 𝑑 ≤ 12.\n",
    "\n",
    "    OR: converts an array of 𝑛 = 256 integers modulo 𝑚 into a corresponding array of bytes.\n",
    "    \"\"\"\n",
    "\n",
    "    # TODO: d should be an external variable\n",
    "    d = 11\n",
    "\n",
    "    b = np.zeros(8 * 32 * 11) # not sure\n",
    "\n",
    "    for i in range(256):\n",
    "        a = F[i]\n",
    "        for j in range(d):\n",
    "            b[i * d + j] = a % 2\n",
    "            a = (a - b[i * d + j]) / 2\n",
    "\n",
    "    return BitsToBytes(b)"
   ]
  },
  {
   "cell_type": "code",
   "execution_count": 65,
   "metadata": {},
   "outputs": [],
   "source": [
    "def ByteDecode(B):\n",
    "    \"\"\"\n",
    "    Decodes a byte array into an array of 𝑑-bit integers for 1 ≤ 𝑑 ≤ 12.\n",
    "\n",
    "    OR: converts an array of bytes into an array of integers modulo 𝑚.\n",
    "    \"\"\"\n",
    "    \n",
    "    # TODO: d should be an external variable\n",
    "    d = 11\n",
    "\n",
    "    m = 2 ** d if d < 12 else q\n",
    "    b = BytesToBits(B)\n",
    "    F = np.zeros(256)\n",
    "\n",
    "    for i in range(256):\n",
    "        summation = 0\n",
    "        for j in range(d):\n",
    "            summation += b[i * d + j] * (2 ** j)\n",
    "        F[i] = summation % m\n",
    "    \n",
    "    return F"
   ]
  },
  {
   "cell_type": "code",
   "execution_count": 75,
   "metadata": {},
   "outputs": [],
   "source": [
    "B = BitsToBytes(b)\n",
    "res = np.zeros(32 * 11)\n",
    "res[:B.shape[0]] = B\n",
    "B = res\n",
    "F = ByteDecode(B)\n",
    "Bres = ByteEncode(F)"
   ]
  },
  {
   "cell_type": "code",
   "execution_count": null,
   "metadata": {},
   "outputs": [],
   "source": []
  }
 ],
 "metadata": {
  "kernelspec": {
   "display_name": "Python 3",
   "language": "python",
   "name": "python3"
  },
  "language_info": {
   "codemirror_mode": {
    "name": "ipython",
    "version": 3
   },
   "file_extension": ".py",
   "mimetype": "text/x-python",
   "name": "python",
   "nbconvert_exporter": "python",
   "pygments_lexer": "ipython3",
   "version": "3.10.2"
  }
 },
 "nbformat": 4,
 "nbformat_minor": 2
}
